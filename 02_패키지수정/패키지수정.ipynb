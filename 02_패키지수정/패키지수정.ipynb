{
 "cells": [
  {
   "cell_type": "markdown",
   "id": "72b354a8",
   "metadata": {},
   "source": [
    "# 사전생성.ipynb에서 생성한 tar.gz 파일 다운로드 해둘 것"
   ]
  },
  {
   "cell_type": "markdown",
   "id": "8b2c8fc6",
   "metadata": {},
   "source": [
    "# 01. 패키지 간략 설명\n",
    "\n",
    "- Meilisearch - Milli - charabia - lindera 패키지 의존성을 갖는다\n",
    "- 위 관련 코드를 수정하면 사용자 사전 적용 및 형태소 분석 기반 토크나이징이 가능하다"
   ]
  },
  {
   "cell_type": "markdown",
   "id": "94736f82",
   "metadata": {},
   "source": [
    "# 02. Meilisearch \n",
    "\n",
    "- [내 깃허브 참고](https://github.com/git-ThLee/meilisearch)\n",
    "- 수정된 부분\n",
    "    - meilisearch/meilisearch-auth/Cargo.toml\n",
    "    - meilisearch/meilisearch-lib/Cargo.toml"
   ]
  },
  {
   "cell_type": "markdown",
   "id": "c1129c49",
   "metadata": {},
   "source": [
    "# 03. Milli\n",
    "- [내 깃허브 참고](https://github.com/git-ThLee/milli)\n",
    "- 수정된 부분\n",
    "    - milli/milli/Cargo.toml"
   ]
  },
  {
   "cell_type": "markdown",
   "id": "39652b07",
   "metadata": {},
   "source": [
    "# 04.charabia\n",
    "- [내 깃허브 참고](https://github.com/git-ThLee/charabia)\n",
    "- 수정된 부분\n",
    "    - 형태소 분석 기반 토크나이징\n",
    "        - charabia/src/segmenter/ 에서 hangul.rs 추가 \n",
    "    - 사용자 사전 추가 \n",
    "        - charabia/Cargo.toml \n",
    "\n",
    "- hangul.rs는 없던 파일로써, 한국어 형태소 분석 기반 토크나이징을 위해 만들어졌다"
   ]
  },
  {
   "cell_type": "markdown",
   "id": "36be7d92",
   "metadata": {},
   "source": [
    "# 05. lindera\n",
    "- [내 깃허브 참고](https://github.com/git-ThLee/lindera)\n",
    "- 수정된 부분\n",
    "    - lindera/lindera/Cargo.toml\n",
    "    - lindera/lindera-ko-dic/resources/ 에서 \"사전생성.ipynb\"에서 생성한 tar.gz 파일로 변경해준다"
   ]
  }
 ],
 "metadata": {
  "kernelspec": {
   "display_name": "Python 3 (ipykernel)",
   "language": "python",
   "name": "python3"
  },
  "language_info": {
   "codemirror_mode": {
    "name": "ipython",
    "version": 3
   },
   "file_extension": ".py",
   "mimetype": "text/x-python",
   "name": "python",
   "nbconvert_exporter": "python",
   "pygments_lexer": "ipython3",
   "version": "3.8.13"
  }
 },
 "nbformat": 4,
 "nbformat_minor": 5
}
