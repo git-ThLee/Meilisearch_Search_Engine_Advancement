{
 "cells": [
  {
   "cell_type": "code",
   "execution_count": 1,
   "id": "b83b3f00",
   "metadata": {},
   "outputs": [],
   "source": [
    "import pandas as pd\n",
    "import numpy as np\n",
    "import os\n",
    "import json\n",
    "import re \n",
    "from collections import defaultdict"
   ]
  },
  {
   "cell_type": "code",
   "execution_count": 2,
   "id": "777b28fb",
   "metadata": {},
   "outputs": [
    {
     "name": "stdout",
     "output_type": "stream",
     "text": [
      "['productCategories.json', 'products(도서,온라인강의,오프라인강의).json', 'products.json', 'productCurations.json']\n"
     ]
    }
   ],
   "source": [
    "# 파일 목록\n",
    "path = \"./products\"\n",
    "file_list = os.listdir(path)\n",
    "\n",
    "json_list = list()\n",
    "for i in file_list :\n",
    "    if i.find(\".json\") != -1 :\n",
    "        json_list.append(i)\n",
    "print(json_list)"
   ]
  },
  {
   "cell_type": "markdown",
   "id": "31e3e645",
   "metadata": {},
   "source": [
    "# $ 표시 제거"
   ]
  },
  {
   "cell_type": "code",
   "execution_count": 3,
   "id": "3b3d63fe",
   "metadata": {},
   "outputs": [],
   "source": [
    "# $ 들어간 거 제거 \n",
    "for file_name in json_list :\n",
    "    path2 = path + \"/\" + file_name\n",
    "    \n",
    "    with open(path2 , 'r' , encoding='UTF-8') as f :\n",
    "        data = json.load(f, strict = False)\n",
    "\n",
    "    def sol(data):\n",
    "        if isinstance(data , dict):\n",
    "            for key , value in data.items():\n",
    "                if isinstance( value, dict):\n",
    "                    if len(value.keys()) == 1 :\n",
    "                        value_key = list(value.keys())[0]\n",
    "                        if value_key == \"$oid\" :\n",
    "                            data[key] = value[\"$oid\"]\n",
    "                        elif value_key == \"$date\" :\n",
    "                            data[key] = value[\"$date\"]\n",
    "                    else:\n",
    "                        pass\n",
    "                elif isinstance( value, list):\n",
    "                    for idx, v  in enumerate(value):\n",
    "                        if isinstance(v , dict):\n",
    "                            if len(v.keys()) == 1 :\n",
    "                                value_key = list(v.keys())[0]\n",
    "                                if value_key == \"$oid\" :\n",
    "                                    value[idx] = v[\"$oid\"]\n",
    "                                elif value_key == \"$date\" :\n",
    "                                    value[idx] = v[\"$date\"]\n",
    "                            else:\n",
    "                                sol(v)\n",
    "                        else:\n",
    "                            pass\n",
    "                    #data[key].append(sol(value))\n",
    "                elif isinstance( value, str) : # value가 str 일때\n",
    "                    pass\n",
    "                if key == \"$oid\" :\n",
    "                    return value\n",
    "                elif key == \"$date\" :\n",
    "                    return value\n",
    "                else :\n",
    "                    pass\n",
    "        \n",
    "    for i in data :\n",
    "        sol(i)\n",
    "\n",
    "\n",
    "    with open(path2 , 'w' , encoding='UTF-8' ) as file :\n",
    "        json.dump(data, file, ensure_ascii = False, indent=4 )"
   ]
  },
  {
   "cell_type": "markdown",
   "id": "9fb96098",
   "metadata": {},
   "source": [
    "# html 태그 제거"
   ]
  },
  {
   "cell_type": "code",
   "execution_count": 4,
   "id": "59f3ad40",
   "metadata": {},
   "outputs": [],
   "source": [
    "def cleanhtml(raw_html):\n",
    "  cleanr = re.compile('<.*?>|&([a-z0-9]+|#[0-9]{1,6}|#x[0-9a-f]{1,6});')\n",
    "  cleantext = re.sub(cleanr, '', raw_html)\n",
    "  return cleantext\n",
    "\n",
    "for file_name in json_list :\n",
    "    path2 = path + \"/\" + file_name\n",
    "    \n",
    "    with open(path2 , 'r' , encoding='UTF-8') as f :\n",
    "        data = json.load(f, strict = False)\n",
    "\n",
    "    def sol(data):\n",
    "        pass\n",
    "        \n",
    "    for idx, d in enumerate(data) :\n",
    "        for key , value in d.items():\n",
    "            if isinstance(value, str) :\n",
    "                data[idx][key] = cleanhtml(value)\n",
    "\n",
    "\n",
    "    with open(path2 , 'w' , encoding='UTF-8' ) as file :\n",
    "        json.dump(data, file, ensure_ascii = False, indent=4 )"
   ]
  },
  {
   "cell_type": "markdown",
   "id": "117dce1d",
   "metadata": {},
   "source": [
    "# product 관련 json 각각 속성 파악"
   ]
  },
  {
   "cell_type": "code",
   "execution_count": 5,
   "id": "14bcdcd5",
   "metadata": {},
   "outputs": [
    {
     "name": "stdout",
     "output_type": "stream",
     "text": [
      "['productCategories.json', 'products(도서,온라인강의,오프라인강의).json', 'products.json', 'productCurations.json']\n"
     ]
    }
   ],
   "source": [
    "print(json_list)"
   ]
  },
  {
   "cell_type": "markdown",
   "id": "0568ab4a",
   "metadata": {},
   "source": [
    "## productsCategories.json"
   ]
  },
  {
   "cell_type": "code",
   "execution_count": 11,
   "id": "1fba6bbc",
   "metadata": {},
   "outputs": [
    {
     "data": {
      "text/plain": [
       "{'_id': '5df6eb494267e105dffef92a',\n",
       " 'date_created': '2019-12-16T02:26:17.072Z',\n",
       " 'date_updated': '2022-09-14T02:42:46.575Z',\n",
       " 'image': '',\n",
       " 'name': '기획서비스',\n",
       " 'description': '',\n",
       " 'meta_description': '',\n",
       " 'meta_title': '',\n",
       " 'enabled': False,\n",
       " 'sort': '',\n",
       " 'parent_id': None,\n",
       " 'position': 234,\n",
       " 'slug': 'planning-service'}"
      ]
     },
     "execution_count": 11,
     "metadata": {},
     "output_type": "execute_result"
    }
   ],
   "source": [
    "file_path = \"./products/\" + json_list[0]\n",
    "a = defaultdict(list)\n",
    "with open(file_path, 'r') as file:\n",
    "    data0 = json.load(file)\n",
    "data0[0]"
   ]
  },
  {
   "cell_type": "code",
   "execution_count": 12,
   "id": "63d6ba29",
   "metadata": {},
   "outputs": [
    {
     "data": {
      "text/html": [
       "<div>\n",
       "<style scoped>\n",
       "    .dataframe tbody tr th:only-of-type {\n",
       "        vertical-align: middle;\n",
       "    }\n",
       "\n",
       "    .dataframe tbody tr th {\n",
       "        vertical-align: top;\n",
       "    }\n",
       "\n",
       "    .dataframe thead th {\n",
       "        text-align: right;\n",
       "    }\n",
       "</style>\n",
       "<table border=\"1\" class=\"dataframe\">\n",
       "  <thead>\n",
       "    <tr style=\"text-align: right;\">\n",
       "      <th></th>\n",
       "      <th>_id</th>\n",
       "      <th>date_created</th>\n",
       "      <th>date_updated</th>\n",
       "      <th>image</th>\n",
       "      <th>name</th>\n",
       "      <th>description</th>\n",
       "      <th>meta_description</th>\n",
       "      <th>meta_title</th>\n",
       "      <th>enabled</th>\n",
       "      <th>sort</th>\n",
       "      <th>parent_id</th>\n",
       "      <th>position</th>\n",
       "      <th>slug</th>\n",
       "    </tr>\n",
       "  </thead>\n",
       "  <tbody>\n",
       "    <tr>\n",
       "      <th>0</th>\n",
       "      <td>5df6eb494267e105dffef92a</td>\n",
       "      <td>2019-12-16T02:26:17.072Z</td>\n",
       "      <td>2022-09-14T02:42:46.575Z</td>\n",
       "      <td></td>\n",
       "      <td>기획서비스</td>\n",
       "      <td></td>\n",
       "      <td></td>\n",
       "      <td></td>\n",
       "      <td>False</td>\n",
       "      <td></td>\n",
       "      <td>None</td>\n",
       "      <td>234</td>\n",
       "      <td>planning-service</td>\n",
       "    </tr>\n",
       "  </tbody>\n",
       "</table>\n",
       "</div>"
      ],
      "text/plain": [
       "                        _id              date_created  \\\n",
       "0  5df6eb494267e105dffef92a  2019-12-16T02:26:17.072Z   \n",
       "\n",
       "               date_updated image   name description meta_description  \\\n",
       "0  2022-09-14T02:42:46.575Z        기획서비스                                \n",
       "\n",
       "  meta_title  enabled sort parent_id  position              slug  \n",
       "0               False           None       234  planning-service  "
      ]
     },
     "execution_count": 12,
     "metadata": {},
     "output_type": "execute_result"
    }
   ],
   "source": [
    "df_cate = pd.DataFrame(data0)\n",
    "df_cate.head(1)"
   ]
  },
  {
   "cell_type": "markdown",
   "id": "4b3055e3",
   "metadata": {},
   "source": [
    "## products.json"
   ]
  },
  {
   "cell_type": "markdown",
   "id": "dd910495",
   "metadata": {},
   "source": [
    "- category_id \n",
    "    - \"dasdqwr\" 처럼 난수로 되어잇는 값을 name으로 변경 ( e.g. \"qwrqwe\" -> 도서 )\n",
    "- category_ids\n",
    "    - category와 동일"
   ]
  },
  {
   "cell_type": "code",
   "execution_count": 9,
   "id": "ba6a9a1d",
   "metadata": {},
   "outputs": [],
   "source": [
    "# 파일불러오기\n",
    "file_path = \"./products/\" + json_list[2]\n",
    "a = defaultdict(list)\n",
    "with open(file_path, 'r') as file:\n",
    "    data2 = json.load(file)"
   ]
  },
  {
   "cell_type": "code",
   "execution_count": 13,
   "id": "105861ed",
   "metadata": {
    "scrolled": true
   },
   "outputs": [
    {
     "name": "stdout",
     "output_type": "stream",
     "text": [
      "[] 5de0bc390a02d105d392c398\n",
      "[] 5de0bc390a02d105d392c398\n",
      "[] 5de0bc390a02d105d392c398\n",
      "[] 5de0bc390a02d105d392c398\n",
      "[] 5de0bc390a02d105d392c398\n",
      "[] 5de0bc390a02d105d392c398\n",
      "[] None\n",
      "[] None\n",
      "[] None\n",
      "[] None\n",
      "[] None\n",
      "[] None\n",
      "[] None\n",
      "[] None\n",
      "[] None\n",
      "[] None\n",
      "[] None\n",
      "[] None\n",
      "[] None\n",
      "[] None\n",
      "[] None\n",
      "[] None\n",
      "[] None\n",
      "[] None\n",
      "[] None\n",
      "[] None\n",
      "[] None\n",
      "[] None\n",
      "[] None\n",
      "[] None\n",
      "[] None\n",
      "[] None\n",
      "[] None\n",
      "[] None\n",
      "[] None\n",
      "[] None\n",
      "[] None\n",
      "[] None\n",
      "[] None\n",
      "[] None\n",
      "[] None\n",
      "[] None\n",
      "[] None\n",
      "[] None\n",
      "[] None\n",
      "[] None\n",
      "[] None\n",
      "[] None\n",
      "[] None\n",
      "[] None\n",
      "[] None\n",
      "[] None\n",
      "[] None\n",
      "[] None\n",
      "[] None\n",
      "[] None\n",
      "[] None\n",
      "[] None\n",
      "[] None\n",
      "[] None\n",
      "[] None\n",
      "[] None\n",
      "[] None\n",
      "[] None\n",
      "[] None\n",
      "[] None\n",
      "[] None\n",
      "[] None\n",
      "[] None\n",
      "[] None\n",
      "[] None\n",
      "[] None\n",
      "[] None\n",
      "[] None\n",
      "[] None\n",
      "[] None\n",
      "[] None\n",
      "[] None\n",
      "[] None\n",
      "[] None\n",
      "[] None\n",
      "[] None\n",
      "[] None\n",
      "[] None\n",
      "[] None\n",
      "[] None\n",
      "[] None\n",
      "[] None\n"
     ]
    }
   ],
   "source": [
    "# category_id 값이 id로 되어있는거 name로 변경\n",
    "for d in data2:\n",
    "    try : \n",
    "        d['category_id'] = df_cate[df_cate['_id'] == d['category_id']]['name'].values[0]\n",
    "    except:\n",
    "        print(df_cate[df_cate['_id'] == d['category_id']]['name'].values, d['category_id'])\n",
    "        d['category_id'] = \"\""
   ]
  },
  {
   "cell_type": "code",
   "execution_count": 116,
   "id": "b4ebe10d",
   "metadata": {},
   "outputs": [],
   "source": [
    "# category_ids (서브) 값을 위와 동일하게 name처리\n",
    "for d in data2:\n",
    "    for idx , value in enumerate(d['category_ids']):\n",
    "        try : \n",
    "            d['category_ids'][idx] = df_cate[df_cate['_id'] == value]['name'].values[0]\n",
    "        except:\n",
    "            d['category_ids'][idx] = \"\""
   ]
  }
 ],
 "metadata": {
  "kernelspec": {
   "display_name": "Python 3.10.1 64-bit",
   "language": "python",
   "name": "python3"
  },
  "language_info": {
   "codemirror_mode": {
    "name": "ipython",
    "version": 3
   },
   "file_extension": ".py",
   "mimetype": "text/x-python",
   "name": "python",
   "nbconvert_exporter": "python",
   "pygments_lexer": "ipython3",
   "version": "3.10.1"
  },
  "vscode": {
   "interpreter": {
    "hash": "e1d54daf239baa0d08258bc0b12cc3f117e61421667d5d2e43f96de704b4c513"
   }
  }
 },
 "nbformat": 4,
 "nbformat_minor": 5
}
